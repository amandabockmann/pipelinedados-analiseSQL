{
  "nbformat": 4,
  "nbformat_minor": 0,
  "metadata": {
    "colab": {
      "provenance": []
    },
    "kernelspec": {
      "name": "python3",
      "display_name": "Python 3"
    },
    "language_info": {
      "name": "python"
    }
  },
  "cells": [
    {
      "cell_type": "markdown",
      "source": [
        "# 🚀 Miniprojeto - Consultas BigQuery\n",
        "\n",
        "Este notebook contém todos os scripts SQL utilizados no projeto:\n",
        "- Criação de tabelas\n",
        "- Inserção de dados\n",
        "- Criação de views\n",
        "- Consultas de análise\n"
      ],
      "metadata": {
        "id": "_60FghiZkopU"
      }
    },
    {
      "cell_type": "markdown",
      "source": [
        "## 📊 Criação de Tabelas\n",
        "\n",
        "\n",
        "\n"
      ],
      "metadata": {
        "id": "Cq5pXqQjk1gM"
      }
    },
    {
      "cell_type": "code",
      "source": [
        "-- 01_create_tables.sql\n",
        "CREATE TABLE Livraria_DevSaber_1_10.clientes (\n",
        "  cliente_id STRING,\n",
        "  nome STRING,\n",
        "  estado STRING\n",
        ");\n",
        "\n",
        "CREATE TABLE Livraria_DevSaber_1_10.produtos (\n",
        "  produto_id STRING,\n",
        "  nome_produto STRING,\n",
        "  categoria STRING,\n",
        "  preco NUMERIC\n",
        ");\n",
        "\n",
        "CREATE TABLE Livraria_DevSaber_1_10.vendas (\n",
        "  venda_id STRING,\n",
        "  cliente_id STRING,\n",
        "  produto_id STRING,\n",
        "  quantidade INT64,\n",
        "  data_venda DATE\n",
        ");\n"
      ],
      "metadata": {
        "id": "f5RwpF2Jkqg6"
      },
      "execution_count": null,
      "outputs": []
    },
    {
      "cell_type": "markdown",
      "source": [
        "## 📊 Inserção de Dados"
      ],
      "metadata": {
        "id": "WjHCAXSilUAF"
      }
    },
    {
      "cell_type": "code",
      "source": [
        "-- 02_insert_data.sql\n",
        "INSERT INTO Livraria_DevSaber_1_10.clientes\n",
        "(cliente_id, nome, estado) VALUES\n",
        "('C001', 'Ana Silva', 'SP'),\n",
        "('C002', 'Bruno Costa', 'RJ'),\n",
        "('C003', 'Carla Dias', 'MG'),\n",
        "('C004', 'Daniel Souza', 'RS');\n",
        "\n",
        "INSERT INTO Livraria_DevSaber_1_10.produtos\n",
        "(produto_id, nome_produto, categoria, preco) VALUES\n",
        "('P001', 'Livro A', 'Ficção', 50),\n",
        "('P002', 'Livro B', 'Ficção', 70),\n",
        "('P003', 'Livro C', 'Negócios', 100),\n",
        "('P004', 'Livro D', 'Educação', 80);\n",
        "\n",
        "INSERT INTO Livraria_DevSaber_1_10.vendas\n",
        "(venda_id, cliente_id, produto_id, quantidade, data_venda) VALUES\n",
        "('V001', 'C001', 'P001', 1, '2023-06-01'),\n",
        "('V002', 'C001', 'P002', 1, '2023-07-15'),\n",
        "('V003', 'C002', 'P003', 1, '2023-08-20'),\n",
        "('V004', 'C003', 'P004', 1, '2023-08-22'),\n",
        "('V005', 'C004', 'P001', 1, '2023-09-05');\n",
        "-- 02_insert_data.sql\n",
        "INSERT INTO Livraria_DevSaber_1_10.clientes\n",
        "(cliente_id, nome, estado) VALUES\n",
        "('C001', 'Ana Silva', 'SP'),\n",
        "('C002', 'Bruno Costa', 'RJ'),\n",
        "('C003', 'Carla Dias', 'MG'),\n",
        "('C004', 'Daniel Souza', 'RS');\n",
        "\n",
        "INSERT INTO Livraria_DevSaber_1_10.produtos\n",
        "(produto_id, nome_produto, categoria, preco) VALUES\n",
        "('P001', 'Livro A', 'Ficção', 50),\n",
        "('P002', 'Livro B', 'Ficção', 70),\n",
        "('P003', 'Livro C', 'Negócios', 100),\n",
        "('P004', 'Livro D', 'Educação', 80);\n",
        "\n",
        "INSERT INTO Livraria_DevSaber_1_10.vendas\n",
        "(venda_id, cliente_id, produto_id, quantidade, data_venda) VALUES\n",
        "('V001', 'C001', 'P001', 1, '2023-06-01'),\n",
        "('V002', 'C001', 'P002', 1, '2023-07-15'),\n",
        "('V003', 'C002', 'P003', 1, '2023-08-20'),\n",
        "('V004', 'C003', 'P004', 1, '2023-08-22'),\n",
        "('V005', 'C004', 'P001', 1, '2023-09-05');\n"
      ],
      "metadata": {
        "id": "ZeLC-xI0ld6N"
      },
      "execution_count": null,
      "outputs": []
    },
    {
      "cell_type": "markdown",
      "source": [
        "##  📊 Criação das Views"
      ],
      "metadata": {
        "id": "mvg-2Q5hllKc"
      }
    },
    {
      "cell_type": "code",
      "source": [
        "-- 03_views.sql\n",
        "CREATE OR REPLACE VIEW Livraria_DevSaber_1_10.vw_vendas_detalhes AS\n",
        "SELECT\n",
        "  v.venda_id,\n",
        "  v.data_venda,\n",
        "  c.cliente_id,\n",
        "  c.nome AS nome_cliente,\n",
        "  c.estado AS estado_cliente,\n",
        "  p.produto_id,\n",
        "  p.nome_produto,\n",
        "  p.categoria AS categoria_produto,\n",
        "  v.quantidade,\n",
        "  p.preco,\n",
        "  v.quantidade * p.preco AS total_venda\n",
        "FROM Livraria_DevSaber_1_10.vendas v\n",
        "JOIN Livraria_DevSaber_1_10.clientes c ON v.cliente_id = c.cliente_id\n",
        "JOIN Livraria_DevSaber_1_10.produtos p ON v.produto_id = p.produto_id;\n"
      ],
      "metadata": {
        "id": "sXXcywoklxl-"
      },
      "execution_count": null,
      "outputs": []
    },
    {
      "cell_type": "markdown",
      "source": [
        "## 📊 Consultas de Análise"
      ],
      "metadata": {
        "id": "kFILPsipoltD"
      }
    },
    {
      "cell_type": "code",
      "source": [
        "-- 04_analysis_queries.sql\n",
        "\n",
        "-- Total de vendas por cliente\n",
        "SELECT nome_cliente, SUM(total_venda) AS total_gasto\n",
        "FROM Livraria_DevSaber_1_10.vw_vendas_detalhes\n",
        "GROUP BY nome_cliente\n",
        "ORDER BY total_gasto DESC;\n",
        "\n",
        "-- Produtos mais vendidos\n",
        "SELECT nome_produto, SUM(quantidade) AS total_vendido\n",
        "FROM Livraria_DevSaber_1_10.vw_vendas_detalhes\n",
        "GROUP BY nome_produto\n",
        "ORDER BY total_vendido DESC;\n",
        "\n",
        "-- Receita por mês\n",
        "SELECT FORMAT_DATE(\"%Y-%m\", data_venda) AS ano_mes,\n",
        "       SUM(total_venda) AS receita_total\n",
        "FROM Livraria_DevSaber_1_10.vw_vendas_detalhes\n",
        "GROUP BY ano_mes\n",
        "ORDER BY ano_mes;\n",
        "\n",
        "-- Pareto\n",
        "WITH receita_total AS (\n",
        "  SELECT SUM(total_venda) AS receita_geral\n",
        "  FROM Livraria_DevSaber_1_10.vw_vendas_detalhes\n",
        "),\n",
        "clientes_receita AS (\n",
        "  SELECT cliente_id, nome_cliente, SUM(total_venda) AS receita_cliente\n",
        "  FROM Livraria_DevSaber_1_10.vw_vendas_detalhes\n",
        "  GROUP BY cliente_id, nome_cliente\n",
        "  ORDER BY receita_cliente DESC\n",
        ")\n",
        "SELECT\n",
        "  c.*,\n",
        "  r.receita_geral,\n",
        "  SUM(c.receita_cliente) OVER (ORDER BY receita_cliente DESC) AS receita_acumulada,\n",
        "  (SUM(c.receita_cliente) OVER (ORDER BY receita_cliente DESC)/r.receita_geral) AS percentual_acumulado\n",
        "FROM clientes_receita c\n",
        "CROSS JOIN receita_total r;\n"
      ],
      "metadata": {
        "id": "SbH5FFxRowfI"
      },
      "execution_count": null,
      "outputs": []
    }
  ]
}